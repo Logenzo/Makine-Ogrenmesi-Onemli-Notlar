{
  "nbformat": 4,
  "nbformat_minor": 0,
  "metadata": {
    "colab": {
      "provenance": []
    },
    "kernelspec": {
      "name": "python3",
      "display_name": "Python 3"
    },
    "language_info": {
      "name": "python"
    }
  },
  "cells": [
    {
      "cell_type": "code",
      "execution_count": 1,
      "metadata": {
        "id": "xp9RNj6eiKoh"
      },
      "outputs": [],
      "source": [
        "%matplotlib inline\n",
        "import matplotlib\n",
        "import seaborn as sns\n",
        "sns.set()\n",
        "matplotlib.rcParams['savefig.dpi'] = 144"
      ]
    },
    {
      "cell_type": "code",
      "source": [
        "import pandas as pd\n",
        "import sklearn.datasets"
      ],
      "metadata": {
        "id": "bUK0doIqix5D"
      },
      "execution_count": 2,
      "outputs": []
    },
    {
      "cell_type": "markdown",
      "source": [
        "# **Denetimli Makine Öğrenimi için Metrikler**\n",
        "\n",
        "Denetimli makine öğreniminin çözmeye çalıştığı genel sorun, çeşitli değişkenlerin ölçümünü bir hedef değer veya sınıfla eşleştirmektir. Örneğin, konuşulan dili metne dönüştürmek, mahalle olanaklarına dayalı olarak ev değerlerini tahmin etmek veya hileli işlemleri tespit etmek için denetimli makine öğrenimini kullanabiliriz. Modelimizin başarılı olup olmadığını değerlendirmek için, verilen görev için başarının ne olduğunu resmi olarak tanımlamamız gerekir. Bu not defterinde, model performansı için birkaç yaygın ölçütü inceleyeceğiz.\n"
      ],
      "metadata": {
        "id": "M9JS2f3Pi7eo"
      }
    },
    {
      "cell_type": "markdown",
      "source": [
        "Örnek olarak Kaliforniya konut veri setini kullanacağız. Kaliforniya konut veri seti, Kaliforniya'nın çeşitli nüfus sayım blokları için ortalama ev yaşı, ortalama oda sayısı, konum ve diğer niteliklerin ölçümlerini içerir."
      ],
      "metadata": {
        "id": "hmqzNBl5jggh"
      }
    },
    {
      "cell_type": "code",
      "source": [
        "!wget http://dataincubator-wqu.s3.amazonaws.com/caldata/cal_housing.pkz -nc -P ~/scikit_learn_data/\n"
      ],
      "metadata": {
        "colab": {
          "base_uri": "https://localhost:8080/"
        },
        "id": "yrB1dwZ0jiyA",
        "outputId": "6ec06756-3b5c-4a83-c5d3-b378062cb6bf"
      },
      "execution_count": 3,
      "outputs": [
        {
          "output_type": "stream",
          "name": "stdout",
          "text": [
            "--2023-02-15 19:30:10--  http://dataincubator-wqu.s3.amazonaws.com/caldata/cal_housing.pkz\n",
            "Resolving dataincubator-wqu.s3.amazonaws.com (dataincubator-wqu.s3.amazonaws.com)... 52.217.135.185, 52.217.232.217, 52.216.205.195, ...\n",
            "Connecting to dataincubator-wqu.s3.amazonaws.com (dataincubator-wqu.s3.amazonaws.com)|52.217.135.185|:80... connected.\n",
            "HTTP request sent, awaiting response... 200 OK\n",
            "Length: 366863 (358K) [binary/octet-stream]\n",
            "Saving to: ‘/root/scikit_learn_data/cal_housing.pkz’\n",
            "\n",
            "cal_housing.pkz     100%[===================>] 358.26K  --.-KB/s    in 0.1s    \n",
            "\n",
            "2023-02-15 19:30:11 (2.79 MB/s) - ‘/root/scikit_learn_data/cal_housing.pkz’ saved [366863/366863]\n",
            "\n"
          ]
        }
      ]
    },
    {
      "cell_type": "code",
      "source": [
        "from sklearn.datasets import fetch_california_housing\n",
        "\n",
        "cali_data = fetch_california_housing()\n",
        "\n",
        "print(cali_data.DESCR)\n",
        "\n",
        "cali_df = pd.DataFrame(cali_data.data, columns=cali_data.feature_names)\n",
        "cali_df.head()"
      ],
      "metadata": {
        "colab": {
          "base_uri": "https://localhost:8080/",
          "height": 1000
        },
        "id": "4ka41dG5jz-Y",
        "outputId": "1ffa4630-4cf8-45c8-bc67-d24834f00ef6"
      },
      "execution_count": 4,
      "outputs": [
        {
          "output_type": "stream",
          "name": "stdout",
          "text": [
            ".. _california_housing_dataset:\n",
            "\n",
            "California Housing dataset\n",
            "--------------------------\n",
            "\n",
            "**Data Set Characteristics:**\n",
            "\n",
            "    :Number of Instances: 20640\n",
            "\n",
            "    :Number of Attributes: 8 numeric, predictive attributes and the target\n",
            "\n",
            "    :Attribute Information:\n",
            "        - MedInc        median income in block group\n",
            "        - HouseAge      median house age in block group\n",
            "        - AveRooms      average number of rooms per household\n",
            "        - AveBedrms     average number of bedrooms per household\n",
            "        - Population    block group population\n",
            "        - AveOccup      average number of household members\n",
            "        - Latitude      block group latitude\n",
            "        - Longitude     block group longitude\n",
            "\n",
            "    :Missing Attribute Values: None\n",
            "\n",
            "This dataset was obtained from the StatLib repository.\n",
            "https://www.dcc.fc.up.pt/~ltorgo/Regression/cal_housing.html\n",
            "\n",
            "The target variable is the median house value for California districts,\n",
            "expressed in hundreds of thousands of dollars ($100,000).\n",
            "\n",
            "This dataset was derived from the 1990 U.S. census, using one row per census\n",
            "block group. A block group is the smallest geographical unit for which the U.S.\n",
            "Census Bureau publishes sample data (a block group typically has a population\n",
            "of 600 to 3,000 people).\n",
            "\n",
            "An household is a group of people residing within a home. Since the average\n",
            "number of rooms and bedrooms in this dataset are provided per household, these\n",
            "columns may take surpinsingly large values for block groups with few households\n",
            "and many empty houses, such as vacation resorts.\n",
            "\n",
            "It can be downloaded/loaded using the\n",
            ":func:`sklearn.datasets.fetch_california_housing` function.\n",
            "\n",
            ".. topic:: References\n",
            "\n",
            "    - Pace, R. Kelley and Ronald Barry, Sparse Spatial Autoregressions,\n",
            "      Statistics and Probability Letters, 33 (1997) 291-297\n",
            "\n"
          ]
        },
        {
          "output_type": "execute_result",
          "data": {
            "text/plain": [
              "   MedInc  HouseAge  AveRooms  AveBedrms  Population  AveOccup  Latitude  \\\n",
              "0  8.3252      41.0  6.984127   1.023810       322.0  2.555556     37.88   \n",
              "1  8.3014      21.0  6.238137   0.971880      2401.0  2.109842     37.86   \n",
              "2  7.2574      52.0  8.288136   1.073446       496.0  2.802260     37.85   \n",
              "3  5.6431      52.0  5.817352   1.073059       558.0  2.547945     37.85   \n",
              "4  3.8462      52.0  6.281853   1.081081       565.0  2.181467     37.85   \n",
              "\n",
              "   Longitude  \n",
              "0    -122.23  \n",
              "1    -122.22  \n",
              "2    -122.24  \n",
              "3    -122.25  \n",
              "4    -122.25  "
            ],
            "text/html": [
              "\n",
              "  <div id=\"df-659de6a6-e7c6-4040-986b-e05b9a1c77eb\">\n",
              "    <div class=\"colab-df-container\">\n",
              "      <div>\n",
              "<style scoped>\n",
              "    .dataframe tbody tr th:only-of-type {\n",
              "        vertical-align: middle;\n",
              "    }\n",
              "\n",
              "    .dataframe tbody tr th {\n",
              "        vertical-align: top;\n",
              "    }\n",
              "\n",
              "    .dataframe thead th {\n",
              "        text-align: right;\n",
              "    }\n",
              "</style>\n",
              "<table border=\"1\" class=\"dataframe\">\n",
              "  <thead>\n",
              "    <tr style=\"text-align: right;\">\n",
              "      <th></th>\n",
              "      <th>MedInc</th>\n",
              "      <th>HouseAge</th>\n",
              "      <th>AveRooms</th>\n",
              "      <th>AveBedrms</th>\n",
              "      <th>Population</th>\n",
              "      <th>AveOccup</th>\n",
              "      <th>Latitude</th>\n",
              "      <th>Longitude</th>\n",
              "    </tr>\n",
              "  </thead>\n",
              "  <tbody>\n",
              "    <tr>\n",
              "      <th>0</th>\n",
              "      <td>8.3252</td>\n",
              "      <td>41.0</td>\n",
              "      <td>6.984127</td>\n",
              "      <td>1.023810</td>\n",
              "      <td>322.0</td>\n",
              "      <td>2.555556</td>\n",
              "      <td>37.88</td>\n",
              "      <td>-122.23</td>\n",
              "    </tr>\n",
              "    <tr>\n",
              "      <th>1</th>\n",
              "      <td>8.3014</td>\n",
              "      <td>21.0</td>\n",
              "      <td>6.238137</td>\n",
              "      <td>0.971880</td>\n",
              "      <td>2401.0</td>\n",
              "      <td>2.109842</td>\n",
              "      <td>37.86</td>\n",
              "      <td>-122.22</td>\n",
              "    </tr>\n",
              "    <tr>\n",
              "      <th>2</th>\n",
              "      <td>7.2574</td>\n",
              "      <td>52.0</td>\n",
              "      <td>8.288136</td>\n",
              "      <td>1.073446</td>\n",
              "      <td>496.0</td>\n",
              "      <td>2.802260</td>\n",
              "      <td>37.85</td>\n",
              "      <td>-122.24</td>\n",
              "    </tr>\n",
              "    <tr>\n",
              "      <th>3</th>\n",
              "      <td>5.6431</td>\n",
              "      <td>52.0</td>\n",
              "      <td>5.817352</td>\n",
              "      <td>1.073059</td>\n",
              "      <td>558.0</td>\n",
              "      <td>2.547945</td>\n",
              "      <td>37.85</td>\n",
              "      <td>-122.25</td>\n",
              "    </tr>\n",
              "    <tr>\n",
              "      <th>4</th>\n",
              "      <td>3.8462</td>\n",
              "      <td>52.0</td>\n",
              "      <td>6.281853</td>\n",
              "      <td>1.081081</td>\n",
              "      <td>565.0</td>\n",
              "      <td>2.181467</td>\n",
              "      <td>37.85</td>\n",
              "      <td>-122.25</td>\n",
              "    </tr>\n",
              "  </tbody>\n",
              "</table>\n",
              "</div>\n",
              "      <button class=\"colab-df-convert\" onclick=\"convertToInteractive('df-659de6a6-e7c6-4040-986b-e05b9a1c77eb')\"\n",
              "              title=\"Convert this dataframe to an interactive table.\"\n",
              "              style=\"display:none;\">\n",
              "        \n",
              "  <svg xmlns=\"http://www.w3.org/2000/svg\" height=\"24px\"viewBox=\"0 0 24 24\"\n",
              "       width=\"24px\">\n",
              "    <path d=\"M0 0h24v24H0V0z\" fill=\"none\"/>\n",
              "    <path d=\"M18.56 5.44l.94 2.06.94-2.06 2.06-.94-2.06-.94-.94-2.06-.94 2.06-2.06.94zm-11 1L8.5 8.5l.94-2.06 2.06-.94-2.06-.94L8.5 2.5l-.94 2.06-2.06.94zm10 10l.94 2.06.94-2.06 2.06-.94-2.06-.94-.94-2.06-.94 2.06-2.06.94z\"/><path d=\"M17.41 7.96l-1.37-1.37c-.4-.4-.92-.59-1.43-.59-.52 0-1.04.2-1.43.59L10.3 9.45l-7.72 7.72c-.78.78-.78 2.05 0 2.83L4 21.41c.39.39.9.59 1.41.59.51 0 1.02-.2 1.41-.59l7.78-7.78 2.81-2.81c.8-.78.8-2.07 0-2.86zM5.41 20L4 18.59l7.72-7.72 1.47 1.35L5.41 20z\"/>\n",
              "  </svg>\n",
              "      </button>\n",
              "      \n",
              "  <style>\n",
              "    .colab-df-container {\n",
              "      display:flex;\n",
              "      flex-wrap:wrap;\n",
              "      gap: 12px;\n",
              "    }\n",
              "\n",
              "    .colab-df-convert {\n",
              "      background-color: #E8F0FE;\n",
              "      border: none;\n",
              "      border-radius: 50%;\n",
              "      cursor: pointer;\n",
              "      display: none;\n",
              "      fill: #1967D2;\n",
              "      height: 32px;\n",
              "      padding: 0 0 0 0;\n",
              "      width: 32px;\n",
              "    }\n",
              "\n",
              "    .colab-df-convert:hover {\n",
              "      background-color: #E2EBFA;\n",
              "      box-shadow: 0px 1px 2px rgba(60, 64, 67, 0.3), 0px 1px 3px 1px rgba(60, 64, 67, 0.15);\n",
              "      fill: #174EA6;\n",
              "    }\n",
              "\n",
              "    [theme=dark] .colab-df-convert {\n",
              "      background-color: #3B4455;\n",
              "      fill: #D2E3FC;\n",
              "    }\n",
              "\n",
              "    [theme=dark] .colab-df-convert:hover {\n",
              "      background-color: #434B5C;\n",
              "      box-shadow: 0px 1px 3px 1px rgba(0, 0, 0, 0.15);\n",
              "      filter: drop-shadow(0px 1px 2px rgba(0, 0, 0, 0.3));\n",
              "      fill: #FFFFFF;\n",
              "    }\n",
              "  </style>\n",
              "\n",
              "      <script>\n",
              "        const buttonEl =\n",
              "          document.querySelector('#df-659de6a6-e7c6-4040-986b-e05b9a1c77eb button.colab-df-convert');\n",
              "        buttonEl.style.display =\n",
              "          google.colab.kernel.accessAllowed ? 'block' : 'none';\n",
              "\n",
              "        async function convertToInteractive(key) {\n",
              "          const element = document.querySelector('#df-659de6a6-e7c6-4040-986b-e05b9a1c77eb');\n",
              "          const dataTable =\n",
              "            await google.colab.kernel.invokeFunction('convertToInteractive',\n",
              "                                                     [key], {});\n",
              "          if (!dataTable) return;\n",
              "\n",
              "          const docLinkHtml = 'Like what you see? Visit the ' +\n",
              "            '<a target=\"_blank\" href=https://colab.research.google.com/notebooks/data_table.ipynb>data table notebook</a>'\n",
              "            + ' to learn more about interactive tables.';\n",
              "          element.innerHTML = '';\n",
              "          dataTable['output_type'] = 'display_data';\n",
              "          await google.colab.output.renderOutput(dataTable, element);\n",
              "          const docLink = document.createElement('div');\n",
              "          docLink.innerHTML = docLinkHtml;\n",
              "          element.appendChild(docLink);\n",
              "        }\n",
              "      </script>\n",
              "    </div>\n",
              "  </div>\n",
              "  "
            ]
          },
          "metadata": {},
          "execution_count": 4
        }
      ]
    },
    {
      "cell_type": "markdown",
      "source": [
        "Yukarıdaki veri çerçevesinde, her sütun bir özellik (yani bir değişken) ve her satır bir gözlemdir (yani bir ölçüm). Başka bir deyişle, medyan gelir ve ortalama oda sayısı gibi şeyler özelliklerdir, özelliklerin bir ölçümüne sahip olduğumuz her nüfus sayımı bloğu ise bir gözlemdir. Ayrıca, her mahalle için medyan ev değeri olan bir hedef etiket vektörümüz var. Toplamda 13 özelliğimiz ve etiketli 506 gözlemimiz var.\n"
      ],
      "metadata": {
        "id": "jsCPLqCIkXBE"
      }
    },
    {
      "cell_type": "code",
      "source": [
        "print(cali_data.data.shape)\n",
        "print(cali_data.target.shape)"
      ],
      "metadata": {
        "colab": {
          "base_uri": "https://localhost:8080/"
        },
        "id": "ziJ6JKKQkYk6",
        "outputId": "fa299eae-6b86-4abf-f6f9-36aa8da11f9f"
      },
      "execution_count": 5,
      "outputs": [
        {
          "output_type": "stream",
          "name": "stdout",
          "text": [
            "(20640, 8)\n",
            "(20640,)\n"
          ]
        }
      ]
    },
    {
      "cell_type": "markdown",
      "source": [
        "Gerçek sayı değerlerini (örneğin ev fiyatı) tahmin etmek için bir model tasarladığımızda, modelimiz bir regresyon modelidir. Alternatif olarak, \"pahalı mahalle\" ve \"ucuz mahalle\" gibi kategorik etiketleri tahmin etmek için bir model tasarlayabiliriz. Bu bir sınıflandırma modeli olacaktır. Denetimli makine öğrenimi görevlerinin çoğu regresyon veya sınıflandırma kategorisine girer.\n",
        "\n",
        "Metriğimizi bir maliyet fonksiyonu tanımlamak için kullanıyoruz.(C diyelim). Gradyan inişini gerçekleştirmek için, C'nin türevini sayısal olarak değerlendiririz model parametrelerimize göre."
      ],
      "metadata": {
        "id": "_d346LEuk0p6"
      }
    },
    {
      "cell_type": "markdown",
      "source": [
        "# **Regresyon Görevleri için Metrikler**\n",
        "\n",
        "Doğrusal regresyonla ilgili not defterinde, trend çizgimizin nasıl performans gösterdiğine ilişkin bir ölçüt olarak ortalama karesel hatayı (MSE) tanıtmıştık. Bu bizi, model parametrelerimize bağlı olan skaler bir fonksiyon olan bir maliyet fonksiyonu tanımlamaya yöneltti. Gradyan inişi kullanarak maliyet fonksiyonunu minimize ettik. Hangi sorunu çözmeye çalıştığımıza ve neyi optimize etmek istediğimize bağlı olarak farklı ölçütler seçebiliriz.\n",
        "\n",
        "Ortalama karesel hata (MSE) regresyon için en yaygın ölçütlerden biridir.\n",
        "\n",
        "Model parametrelerimizi ayarlayarak MAE'yi minimize ettiğimizde, modelimiz aykırı değerlerden MSE'yi kullandığımızdan daha az etkilenecektir. Bunun nedeni, aykırı değerlerden kaynaklanan hata terimlerinin (genellikle büyük olacaktır) MAE'ye kare olarak değil doğrusal olarak girmesidir.\n",
        "\n",
        "Bir metrik seçerken göz önünde bulundurulması gereken önemli bir husus, verilerin nasıl ölçeklendirildiğidir."
      ],
      "metadata": {
        "id": "h2nmpzB3lvyr"
      }
    },
    {
      "cell_type": "code",
      "source": [
        "from sklearn import metrics\n",
        "import numpy as np\n",
        "\n",
        "y = np.random.randn(10)\n",
        "y_pred = y + .5 * np.random.randn(10)\n",
        "\n",
        "print('MSE: %f' % metrics.mean_squared_error(y, y_pred))\n",
        "print('MAE: %f' % metrics.mean_absolute_error(y, y_pred))\n",
        "print('R^2: %f' % metrics.r2_score(y, y_pred))"
      ],
      "metadata": {
        "id": "3Xo2ClM3svkH"
      },
      "execution_count": null,
      "outputs": []
    },
    {
      "cell_type": "code",
      "source": [
        "# y'yi yeniden ölçeklendir\n",
        "\n",
        "y = 2 * y\n",
        "y_pred = 2 * y_pred\n",
        "\n",
        "print('MSE: %f' % metrics.mean_squared_error(y, y_pred))\n",
        "print('MAE: %f' % metrics.mean_absolute_error(y, y_pred))\n",
        "print('R^2: %f' % metrics.r2_score(y, y_pred))"
      ],
      "metadata": {
        "id": "0Kq5IpTGt26B"
      },
      "execution_count": null,
      "outputs": []
    },
    {
      "cell_type": "markdown",
      "source": [
        "# **Sınıflandırma Görevleri için Metrikler**\n",
        "\n",
        "Regresyon için metrikler bir hata teriminin hesaplanmasına dayanır (yani tahminimiz ile temel gerçek arasındaki fark). Bunu bir sınıflandırma görevi için yapamayız, bu nedenle sınıflandırma için tamamen farklı metrikler tanımlamamız gerekecektir. Bir tahminde bulunduğumuzda olası sonuçlarla başlayalım.\n",
        "\n",
        "Metriğimizi oluşturmak için kullanabileceğimiz dört olası sonucumuz var. Biz sadece üç olasılığı ele alacağız (daha birçok metrik tanımlanmış olsa da).\n",
        "\n",
        "**Accuracy** en sezgisel olanıdır: doğru pozitiflerin ve negatiflerin oranının miktarıdır. Doğru pozitifleri ve doğru negatifleri toplar ve toplam tahmin sayısına böleriz.\n",
        "\n",
        "**Accuracy**, sınıf dengesizliğinin olduğu görevlerden zarar görür. Örneğin, dolandırıcılık tespitinde gerçek pozitifler çok nadirdir. Bu nedenle, sadece her zaman negatif tahmin ederek yüksek doğruluk elde edebiliriz. Tüm gözlemlerin yalnızca %0,1'i gerçekten pozitifse, her zaman negatifi tahmin eden bir model %99,9 doğruluk elde eder, ancak bu açıkça dolandırıcılığı tespit etmek için kötü bir modeldir.\n",
        "\n",
        "Bu örnek, genellikle bir sınıfı diğerinden daha fazla önemsediğimizi göstermektedir. Örneğin, bir işlemin hileli olduğunu düşünüyorsak, bunu araştırmak için bazı kaynakları boşa harcayabiliriz, ancak bir dolandırıcılık vakasını kaçırmak çok daha pahalıya mal olabilir. Bu durumda en çok yanlış negatiflerden kaçınmak isteyebiliriz.\n",
        "\n",
        "**Recall**, gerçek pozitiflerin sayısının gerçek pozitiflerin sayısına bölünmesiyle elde edilir. Yanlış negatiflerin sayısı düşük olduğu sürece, çok fazla gerçek pozitif olmasa bile geri çağırma 1'e yakın olacaktır.\n",
        "\n",
        "Öte yandan, bir dolandırıcılık davası mahkemeye giderse, bir sanığı haksız yere cezalandırmak istemeyiz. Bu durumda yanlış pozitiflerden kaçınmak önemlidir. **Precision**, doğru pozitiflerin sayısının pozitif tahminlerin sayısına bölünmesiyle elde edilir. Yanlış pozitiflerin sayısı düşük olduğu sürece, hassasiyet 1'e yakın olacaktır.\n",
        "\n"
      ],
      "metadata": {
        "id": "RHj6sw6nuviO"
      }
    },
    {
      "cell_type": "code",
      "source": [
        "y = [0, 0, 1, 0, 1, 1, 0, 1]\n",
        "y_pred = [0, 1, 1, 0, 1, 1, 0, 1]\n",
        "\n",
        "print('Accuracy: %f' % metrics.accuracy_score(y, y_pred))\n",
        "print('Recall: %f' % metrics.recall_score(y, y_pred))\n",
        "print('Precision: %f' % metrics.precision_score(y, y_pred))"
      ],
      "metadata": {
        "id": "khSXYV3_w5k9"
      },
      "execution_count": null,
      "outputs": []
    },
    {
      "cell_type": "markdown",
      "source": [
        "# **Precision - Recall**\n",
        "\n",
        "Modelimizi ayarlarken, pozitif tahminleri negatif tahminlerle değiştirerek **precision** ve **recall** arasında bir değiş tokuş söz konusudur.\n",
        "\n",
        "Genellikle sınıflandırma modelimiz bir gözlemin bir sınıfta mı yoksa diğerinde mi olduğunu tahmin etmez, bunun yerine gözlemin bir sınıfta veya diğerinde olma olasılığını tahmin eder. Gözlemin pozitif sınıfta olduğunu tahmin edeceğimiz ve altında negatif olduğunu tahmin edeceğimiz bir eşik olasılığı(**threshold**) seçeriz."
      ],
      "metadata": {
        "id": "AcIeQwWTxp-s"
      }
    },
    {
      "cell_type": "code",
      "source": [
        "p_pred = np.linspace(0, 1, 1000)\n",
        "y = np.random.binomial(1, p_pred)\n"
      ],
      "metadata": {
        "id": "snmkWzPUySQg"
      },
      "execution_count": null,
      "outputs": []
    },
    {
      "cell_type": "code",
      "source": [
        "%matplotlib inline\n",
        "import matplotlib.pyplot as plt\n",
        "from ipywidgets import interact\n",
        "\n",
        "def plot_threshold(threshold=0.5):\n",
        "    true_pos = (p_pred > threshold) & (y == 1)\n",
        "    true_neg = (p_pred < threshold) & (y == 0)\n",
        "    false_pos = (p_pred > threshold) & (y == 0)\n",
        "    false_neg = (p_pred < threshold) & (y == 1)\n",
        "\n",
        "    plt.plot(p_pred[true_pos], y[true_pos], '.', label='True positive')\n",
        "    plt.plot(p_pred[false_pos], y[false_pos], '.', label='False positive')\n",
        "    plt.plot(p_pred[true_neg], y[true_neg], '.', label='True negative')\n",
        "    plt.plot(p_pred[false_neg], y[false_neg], '.', label='False negative')\n",
        "\n",
        "    plt.axvline(threshold)\n",
        "    plt.ylim(-0.25, 1.25)\n",
        "    plt.legend()\n",
        "\n",
        "    precision = 1\n",
        "    if (p_pred > threshold).sum() > 0:\n",
        "        precision = float(true_pos.sum()) / (true_pos.sum() + false_pos.sum())\n",
        "    recall = float(true_pos.sum()) / (true_pos.sum() + false_neg.sum())\n",
        "\n",
        "    plt.title('Precision: %0.2f | Recall: %0.2f' % (precision, recall))\n",
        "\n",
        "interact(plot_threshold, threshold=(0, 1, 0.1));\n",
        "     "
      ],
      "metadata": {
        "id": "0tLftg2QybbI"
      },
      "execution_count": null,
      "outputs": []
    },
    {
      "cell_type": "code",
      "source": [
        "precisions, recalls, thresholds = metrics.precision_recall_curve(y, p_pred)\n",
        "\n",
        "plt.plot(recalls, precisions)\n",
        "plt.xlabel('Recall')\n",
        "plt.ylabel('Precision')\n",
        "plt.title('Precision v. Recall');"
      ],
      "metadata": {
        "id": "FfO7nKa22LR3"
      },
      "execution_count": null,
      "outputs": []
    },
    {
      "cell_type": "markdown",
      "source": [
        "Bu eğriyi tek bir sayı ile özetleyebiliriz: eğrinin altındaki alan. Modelimiz mükemmel olsaydı, eşikten bağımsız olarak hassasiyet ve geri çağırma değerlerinin her ikisi de 1 olurdu, dolayısıyla eğrinin altındaki alan 1 olurdu. Modelimiz her zaman yanlış olsaydı, eşikten bağımsız olarak hassasiyet ve geri çağırma 0 olurdu, dolayısıyla eğrinin altındaki alan 0 olurdu. Eşikten bağımsız olarak modelimiz ne kadar iyi olursa, eğrinin altındaki alan 1'e o kadar yakın olur. Sonunda bir eşik seçmemiz gerekir ve hassasiyet veya geri çağırmaya öncelik vermeyi seçebiliriz, ancak hassasiyet-geri çağırma eğrisinin altındaki alan (AUC), sınıflandırma görevlerinde model performansını değerlendirmek için çok yararlı bir metriktir.\n"
      ],
      "metadata": {
        "id": "JVk6BbVM2NAK"
      }
    }
  ]
}